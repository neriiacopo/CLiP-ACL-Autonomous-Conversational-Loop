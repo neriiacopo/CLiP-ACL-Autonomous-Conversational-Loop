{
 "cells": [
  {
   "cell_type": "code",
   "execution_count": 2,
   "metadata": {},
   "outputs": [],
   "source": [
    "import requests\n",
    "import cv2\n",
    "import os\n",
    "import io\n",
    "from base64 import b64encode, b64decode\n",
    "from pathlib import WindowsPath\n",
    "from PIL import Image\n",
    "import json\n",
    "import cv2\n",
    "import numpy as np"
   ]
  },
  {
   "cell_type": "code",
   "execution_count": 4,
   "metadata": {},
   "outputs": [],
   "source": [
    "server = \"http://127.0.0.1:7860\" # or \"http://127.0.0.1:7861\""
   ]
  },
  {
   "attachments": {},
   "cell_type": "markdown",
   "metadata": {},
   "source": [
    "**Simple txt to Image**"
   ]
  },
  {
   "cell_type": "code",
   "execution_count": 5,
   "metadata": {},
   "outputs": [],
   "source": [
    "class txt2Img():\n",
    "    def __init__(self, query):\n",
    "        self.url = server + \"/sdapi/v1/txt2img\"\n",
    "        self.body = {\n",
    "            \"prompt\": query[\"prompt\"],\n",
    "            \"negative_prompt\": \"longbody, lowres, bad anatomy, bad hands, missing fingers, extra digit, fewer digits, cropped, worst quality, low quality\",\n",
    "            \"seed\": query[\"seed\"],\n",
    "            \"subseed\": -1,\n",
    "            \"subseed_strength\": 0,\n",
    "            \"batch_size\": 1,\n",
    "            \"n_iter\": 1,\n",
    "            \"steps\": query[\"steps\"],\n",
    "            \"cfg_scale\": 5,\n",
    "            \"width\": query[\"width\"],\n",
    "            \"height\": query[\"height\"],\n",
    "            \"restore_faces\": False,\n",
    "            \"tiling\": False,\n",
    "            \"eta\": 0,\n",
    "            \"sampler_index\": query[\"sampler_index\"],\n",
    "            \"save_images\": False,\n",
    "            }\n",
    "\n",
    "    def sendRequest(self):\n",
    "        r = requests.post(self.url, json=self.body)\n",
    "        return r.json()\n",
    "\n",
    "def readImage(path):\n",
    "    img = cv2.imread(path)\n",
    "    retval, buffer = cv2.imencode('.jpg', img)\n",
    "    b64img = b64encode(buffer).decode(\"utf-8\")\n",
    "    return b64img"
   ]
  },
  {
   "cell_type": "code",
   "execution_count": 13,
   "metadata": {},
   "outputs": [],
   "source": [
    "query = {\n",
    "        \"prompt\": \"a cat\",\n",
    "        \"steps\": 30,\n",
    "        \"sampler_index\": \"DPM++ 2M\", #Euler a\n",
    "        \"width\": 512,\n",
    "        \"height\": 512,\n",
    "        \"seed\": -1,\n",
    "        }\n",
    "\n",
    "js = txt2Img(query).sendRequest()\n"
   ]
  },
  {
   "cell_type": "code",
   "execution_count": 22,
   "metadata": {},
   "outputs": [],
   "source": [
    "b64img = js['images'][0]\n",
    "image = Image.open(io.BytesIO(b64decode(b64img)))\n",
    "image.save(\"outputs/test.jpg\")"
   ]
  },
  {
   "attachments": {},
   "cell_type": "markdown",
   "metadata": {},
   "source": [
    "**with ControlNet**"
   ]
  },
  {
   "cell_type": "code",
   "execution_count": 18,
   "metadata": {},
   "outputs": [],
   "source": [
    "class CNet2Img():\n",
    "    def __init__(self,query):\n",
    "        self.url = server + \"/sdapi/v1/txt2img\"\n",
    "        self.body = {\n",
    "            \"prompt\": query[\"prompt\"],\n",
    "            \"negative_prompt\": \"longbody, lowres, bad anatomy, bad hands, missing fingers, extra digit, fewer digits, cropped, worst quality, low quality\",\n",
    "            \"seed\": query[\"seed\"],\n",
    "            \"subseed\": -1,\n",
    "            \"subseed_strength\": 0,\n",
    "            \"batch_size\": 1,\n",
    "            \"n_iter\": 1,\n",
    "            \"steps\": query[\"steps\"],\n",
    "            \"cfg_scale\": 5,\n",
    "            \"width\": query[\"width\"],\n",
    "            \"height\": query[\"height\"],\n",
    "            \"restore_faces\": False,\n",
    "            \"tiling\": False,\n",
    "            \"eta\": 0,\n",
    "            \"sampler_index\": query[\"sampler_index\"],\n",
    "            \"save_images\": False,\n",
    "            \"alwayson_scripts\": {\n",
    "                \"controlnet\": {\n",
    "                        \"args\": [\n",
    "                            {\n",
    "                                \"input_image\": query[\"img\"],\n",
    "                                \"mask\": \"\",\n",
    "                                \"module\": query[\"preprocessor\"],\n",
    "                                \"model\": query[\"model\"],\n",
    "                                \"weight\": 1,\n",
    "                                \"resize_mode\": \"Scale to Fit (Inner Fit)\",\n",
    "                                \"lowvram\": False,\n",
    "                                \"processor_res\": -1,\n",
    "                                \"threshold_a\": -1,\n",
    "                                \"threshold_b\": -1,\n",
    "                                \"guidance\": 1,\n",
    "                                \"guidance_start\": 0,\n",
    "                                \"guidance_end\": 1,\n",
    "                                \"guessmode\": False\n",
    "                            }\n",
    "                        ]\n",
    "                    },\n",
    "            }\n",
    "        }\n",
    "        \n",
    "    def sendRequest(self):\n",
    "        r = requests.post(self.url, json=self.body)\n",
    "        return r.json()\n",
    "\n",
    "def readImage(path):\n",
    "    img = cv2.imread(path)\n",
    "    retval, buffer = cv2.imencode('.jpg', img)\n",
    "    b64img = b64encode(buffer).decode(\"utf-8\")\n",
    "    return b64img"
   ]
  },
  {
   "cell_type": "code",
   "execution_count": 19,
   "metadata": {},
   "outputs": [],
   "source": [
    "query = {\n",
    "        \"prompt\": \"a cat\",\n",
    "        \"steps\": 30,\n",
    "        \"sampler_index\": \"DPM++ 2M\", #Euler a\n",
    "        \"width\": 512,\n",
    "        \"height\": 512,\n",
    "        \"seed\": -1,\n",
    "        \"img\": readImage(\"outputs/test.jpg\"),\n",
    "        \"preprocessor\": \"depth\",\n",
    "        \"model\": \"control_v11f1p_sd15_depth [cfd03158]\",\n",
    "        }\n",
    "\n",
    "js = CNet2Img(query).sendRequest()\n"
   ]
  },
  {
   "cell_type": "code",
   "execution_count": 21,
   "metadata": {},
   "outputs": [],
   "source": [
    "b64img = js['images'][0]\n",
    "image = Image.open(io.BytesIO(b64decode(b64img)))\n",
    "image.save(\"outputs/test_depth.jpg\")"
   ]
  },
  {
   "cell_type": "markdown",
   "metadata": {},
   "source": [
    "**only ControlNet**"
   ]
  },
  {
   "cell_type": "code",
   "execution_count": 25,
   "metadata": {},
   "outputs": [],
   "source": [
    "class CNetPreprocess():\n",
    "    def __init__(self,query):\n",
    "        self.url = server + \"/controlnet/detect\"\n",
    "        self.body = {\n",
    "        \"controlnet_module\":  query[\"preprocessor\"],\n",
    "        \"controlnet_input_images\": [query[\"img\"]],\n",
    "        \"controlnet_processor_res\": 512,\n",
    "        \"controlnet_threshold_a\": 0.5,\n",
    "        \"controlnet_threshold_b\": 0.5,\n",
    "        \"low_vram\": False\n",
    "        }\n",
    "\n",
    "    def sendRequest(self):\n",
    "        r = requests.post(self.url, json=self.body)\n",
    "        return r.json()\n",
    "\n",
    "def readImage(path):\n",
    "    img = cv2.imread(path)\n",
    "    retval, buffer = cv2.imencode('.jpg', img)\n",
    "    b64img = b64encode(buffer).decode(\"utf-8\")\n",
    "    return b64img"
   ]
  },
  {
   "cell_type": "code",
   "execution_count": 26,
   "metadata": {},
   "outputs": [],
   "source": [
    "query = {\n",
    "        \"img\": readImage(\"outputs/test.jpg\"),\n",
    "        \"preprocessor\": \"depth\",\n",
    "        }\n",
    "\n",
    "js = CNetPreprocess(query).sendRequest()"
   ]
  },
  {
   "cell_type": "code",
   "execution_count": 27,
   "metadata": {},
   "outputs": [],
   "source": [
    "b64img = js['images'][0]\n",
    "image = Image.open(io.BytesIO(b64decode(b64img)))\n",
    "image.save(\"outputs/depth.jpg\")"
   ]
  },
  {
   "cell_type": "markdown",
   "metadata": {},
   "source": [
    "**Interrogate CLIP**"
   ]
  },
  {
   "cell_type": "code",
   "execution_count": 34,
   "metadata": {},
   "outputs": [],
   "source": [
    "class interrogateCLIP():\n",
    "    def __init__(self, img):\n",
    "        self.url = server + \"/sdapi/v1/interrogate\"\n",
    "        self.body = {\n",
    "            \"image\": img,\n",
    "            \"model\": \"clip\"\n",
    "            }\n",
    "\n",
    "    def sendRequest(self):\n",
    "        r = requests.post(self.url, json=self.body)\n",
    "        return r.json()"
   ]
  },
  {
   "cell_type": "code",
   "execution_count": 37,
   "metadata": {},
   "outputs": [],
   "source": [
    "img = readImage(\"outputs/test.jpg\")\n",
    "\n",
    "js = interrogateCLIP(img).sendRequest()"
   ]
  },
  {
   "cell_type": "code",
   "execution_count": 39,
   "metadata": {},
   "outputs": [
    {
     "data": {
      "text/plain": [
       "'a cat with green eyes looking off into the distance with a gray background and a black background behind it, Carlos Catasse, green eyes, a character portrait, photorealism'"
      ]
     },
     "execution_count": 39,
     "metadata": {},
     "output_type": "execute_result"
    }
   ],
   "source": [
    "js[\"caption\"]"
   ]
  }
 ],
 "metadata": {
  "kernelspec": {
   "display_name": "env_sd",
   "language": "python",
   "name": "python3"
  },
  "language_info": {
   "codemirror_mode": {
    "name": "ipython",
    "version": 3
   },
   "file_extension": ".py",
   "mimetype": "text/x-python",
   "name": "python",
   "nbconvert_exporter": "python",
   "pygments_lexer": "ipython3",
   "version": "3.9.19"
  },
  "orig_nbformat": 4
 },
 "nbformat": 4,
 "nbformat_minor": 2
}
